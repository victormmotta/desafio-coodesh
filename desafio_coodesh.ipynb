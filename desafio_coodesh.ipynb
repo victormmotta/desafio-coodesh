{
  "nbformat": 4,
  "nbformat_minor": 0,
  "metadata": {
    "colab": {
      "provenance": []
    },
    "kernelspec": {
      "name": "python3",
      "display_name": "Python 3"
    },
    "language_info": {
      "name": "python"
    }
  },
  "cells": [
    {
      "cell_type": "markdown",
      "source": [
        "## **Desafio Coodesh**"
      ],
      "metadata": {
        "id": "EpYz2zislyHQ"
      }
    },
    {
      "cell_type": "markdown",
      "source": [
        "**Importando as bibliotecas necessárias para o projeto**"
      ],
      "metadata": {
        "id": "qFxuTnQ6l7uB"
      }
    },
    {
      "cell_type": "code",
      "source": [
        "# importando o pandas e fazendo a leitura dos arquivos CSV\n",
        "import pandas as pd\n",
        "import numpy as np\n",
        "from collections import Counter\n",
        "import itertools\n"
      ],
      "metadata": {
        "id": "m7ML2KadlwBY"
      },
      "execution_count": null,
      "outputs": []
    },
    {
      "cell_type": "markdown",
      "source": [
        "**Leitura dos arquivos em CSV e mescla dos data frames**"
      ],
      "metadata": {
        "id": "jqMwYBCFmnrC"
      }
    },
    {
      "cell_type": "code",
      "source": [
        "# leitura dos arquivos em csv\n",
        "df_amazon = pd.read_csv('/content/amazon_prime_titles.csv')\n",
        "df_netflix = pd.read_csv('/content/netflix_titles.csv') \n",
        "\n",
        "# mescla dos data frames conforme orientação do desafio\n",
        "merged_df = pd.merge(df_amazon, df_netflix, on='show_id', suffixes=('_amazon', '_netflix'))\n",
        "print(merged_df.head(10))"
      ],
      "metadata": {
        "id": "K4IoU0dOlSMx"
      },
      "execution_count": null,
      "outputs": []
    },
    {
      "cell_type": "markdown",
      "source": [
        "**1- Top 10 atores/atrizes considerando todos os dados;**"
      ],
      "metadata": {
        "id": "pdeYm8xJllDb"
      }
    },
    {
      "cell_type": "code",
      "source": [
        "# criando um DataFrame com as colunas de elenco de ambas plataformas\n",
        "df_cast = pd.DataFrame(merged_df.loc[:,['cast_amazon', 'cast_netflix']])\n",
        "\n",
        "# dropando os valores nan do DataFrame e transformando-os em string\n",
        "df_cast = df_cast.dropna(subset=df_cast.columns).astype(str)\n",
        "\n",
        "# como identifiquei listas dentro de listas na coluna de elenco, dei um split em cada coluna do DataFrame \n",
        "# para separar os elementos e contar de forma unitária \n",
        "cast_amazon = list(map(lambda x: x.split(','), df_cast['cast_amazon']))\n",
        "cast_netflix = list(map(lambda x: x.split(','), df_cast['cast_netflix']))\n",
        "\n",
        "# flatten a lista de listas em uma única lista\n",
        "cast_amazon_chain = list(itertools.chain(*cast_amazon))\n",
        "cast_netflix_chain = list(itertools.chain(*cast_netflix))\n",
        "\n",
        "# transformei as listas criadas em séries para utilização do método value_counts()\n",
        "cast_amazon_serie = pd.Series(cast_amazon_chain)\n",
        "cast_netflix_serie = pd.Series(cast_netflix_chain)\n",
        "\n",
        "# contar quantas vezes cada nome se repete em cada lista\n",
        "contagem_cast_amazon = cast_amazon_serie.value_counts()\n",
        "contagem_cast_netflix = cast_amazon_serie.value_counts()\n",
        "\n",
        "# mescla das contagens de cada lista para criar o top10\n",
        "contagem_cast_total = contagem_cast_amazon + contagem_cast_netflix\n",
        "\n",
        "# criar o top 10 de atores do DataFrame\n",
        "cast_top_10 = contagem_cast_total.head(10)\n",
        "\n",
        "# impressão do resultado\n",
        "print(cast_top_10)"
      ],
      "metadata": {
        "id": "o23FNMnVy6iY"
      },
      "execution_count": null,
      "outputs": []
    },
    {
      "cell_type": "markdown",
      "source": [
        "**2- Top 5 países produtores de conteúdos considerando todos os dados e comparando as duas plataformas**\n"
      ],
      "metadata": {
        "id": "G1ktWHsptbkh"
      }
    },
    {
      "cell_type": "code",
      "source": [
        "# criando um DataFrame com as colunas de elenco de ambas plataformas\n",
        "df_country = pd.DataFrame(merged_df.loc[:,['country_amazon', 'country_netflix']])\n",
        "\n",
        "# dropando os valores nan do DataFrame e transformando-os em string\n",
        "df_country = df_country.dropna(subset=df_country.columns).astype(str)\n",
        "\n",
        "# como identifiquei listas dentro de listas na coluna de elenco, dei um split em cada coluna do DataFrame \n",
        "# para separar os elementos e contar de forma unitária \n",
        "country_amazon = list(map(lambda x: x.split(','), df_country['country_amazon']))\n",
        "country_netflix = list(map(lambda x: x.split(','), df_country['country_netflix']))\n",
        "\n",
        "# flatten a lista de listas em uma única lista\n",
        "country_amazon_chain = list(itertools.chain(*country_amazon))\n",
        "country_netflix_chain = list(itertools.chain(*country_netflix))\n",
        "\n",
        "# transformei as listas criadas em séries para utilização do método value_counts()\n",
        "country_amazon_serie = pd.Series(country_amazon_chain)\n",
        "country_netflix_serie = pd.Series(country_netflix_chain)\n",
        "\n",
        "# removendo os espaços em branco das séries criadas\n",
        "country_amazon_serie = country_amazon_serie.str.strip()\n",
        "country_netflix_serie = country_netflix_serie.str.strip()\n",
        "\n",
        "# contar quantas vezes cada nome se repete em cada lista\n",
        "contagem_country_amazon = country_amazon_serie.value_counts()\n",
        "contagem_country_netflix = country_amazon_serie.value_counts()\n",
        "\n",
        "# mescla das contagens de cada lista para criar o top10\n",
        "contagem_country_total = contagem_country_amazon + contagem_country_netflix\n",
        "\n",
        "# criar o top 10 de atores do DataFrame\n",
        "cast_top_5 = contagem_country_total.head(5)\n",
        "\n",
        "# impressão do resultado\n",
        "print(cast_top_5)"
      ],
      "metadata": {
        "id": "CRv9leNU3-mi"
      },
      "execution_count": null,
      "outputs": []
    },
    {
      "cell_type": "markdown",
      "source": [
        "**3- Mês no qual há mais adições de filmes na plataforma Netflix**"
      ],
      "metadata": {
        "id": "4Zln7Ey5xbC0"
      }
    },
    {
      "cell_type": "code",
      "source": [
        "# Criar um DataFrame com as colunas \"Filmes\" e \"Data\"\n",
        "df_filmes_netflix = pd.DataFrame(merged_df.loc[:,['date_added_netflix', 'title_netflix']])\n",
        "\n",
        "# Converter a coluna de datas em um objeto do tipo datetime\n",
        "df_filmes_netflix[\"date_added_netflix\"] = pd.to_datetime(df_filmes_netflix[\"date_added_netflix\"])\n",
        "\n",
        "# Extrair o mês de cada data\n",
        "df_filmes_netflix[\"date_added_netflix\"] = df_filmes_netflix[\"date_added_netflix\"].dt.month\n",
        "\n",
        "# Contar quantos filmes foram adicionados em cada mês\n",
        "count_mes = df_filmes_netflix[\"date_added_netflix\"].value_counts()\n",
        "\n",
        "# Selecionar o mês com o maior número de filmes adicionados\n",
        "mes_mais_filmes = count_mes.index[0]\n",
        "\n",
        "# Imprimir o mês com o maior número de filmes adicionados\n",
        "print(\"O mês com mais filmes adicionados é:\", int(mes_mais_filmes))\n"
      ],
      "metadata": {
        "id": "nOCKD_Nn8fIs"
      },
      "execution_count": null,
      "outputs": []
    },
    {
      "cell_type": "markdown",
      "source": [
        "**4- Quantidade de filmes listados como comédia**"
      ],
      "metadata": {
        "id": "KbhQFfPixtWh"
      }
    },
    {
      "cell_type": "code",
      "source": [
        "# criando um DataFrame com as colunas de categoria de ambas plataformas\n",
        "df_genre = pd.DataFrame(merged_df.loc[:,['listed_in_amazon', 'listed_in_netflix']])\n",
        "\n",
        "# como identifiquei listas dentro de listas na coluna de elenco, dei um split em cada coluna do DataFrame \n",
        "# para separar os elementos e contar de forma unitária \n",
        "genre_amazon = list(map(lambda x: x.split(','), df_genre['listed_in_amazon']))\n",
        "genre_netflix = list(map(lambda x: x.split(','), df_genre['listed_in_netflix']))\n",
        "\n",
        "# flatten a lista de listas em uma única lista\n",
        "genre_amazon_chain = list(itertools.chain(*genre_amazon))\n",
        "genre_netflix_chain = list(itertools.chain(*genre_netflix))\n",
        "\n",
        "# transformei as listas criadas em séries para utilização do método value_counts()\n",
        "genre_amazon_serie = pd.Series(genre_amazon_chain)\n",
        "genre_netflix_serie = pd.Series(genre_netflix_chain)\n",
        "\n",
        "# removendo os espaços em branco das séries criadas\n",
        "genre_amazon_serie = genre_amazon_serie.str.strip()\n",
        "genre_netflix_serie = genre_netflix_serie.str.strip()\n",
        "\n",
        "# contar quantas vezes cada nome se repete na lista\n",
        "contagem_genre_amazon = genre_amazon_serie.value_counts()\n",
        "contagem_genre_netflix = genre_amazon_serie.value_counts()\n",
        "\n",
        "# mescla das contagens de cada lista para criar o top10\n",
        "contagem_total = contagem_genre_amazon + contagem_genre_netflix\n",
        "\n",
        "# contagem apenas dos filmes que fazem parte da categoria comédia\n",
        "contagem_total_comedia = contagem_total['Comedy']\n",
        "\n",
        "# impressão do resultado\n",
        "print(contagem_total_comedia)\n"
      ],
      "metadata": {
        "id": "OfUgAOCXnD5s"
      },
      "execution_count": null,
      "outputs": []
    },
    {
      "cell_type": "markdown",
      "source": [
        "**5- Lista de todos os gêneros de filmes**"
      ],
      "metadata": {
        "id": "KgmF2EyPzGDr"
      }
    },
    {
      "cell_type": "code",
      "source": [
        "# mescla das séries que trazem os gêneros dos filmes\n",
        "genre_total_serie = genre_amazon_serie + genre_netflix_serie\n",
        "\n",
        "# trazendo os valores únicos dentro da série de gêneros\n",
        "generos_distintos = genre_total_serie.unique()\n",
        "\n",
        "# impressão do resultado\n",
        "print(generos_distintos)"
      ],
      "metadata": {
        "id": "HtHPdBupzJYi"
      },
      "execution_count": null,
      "outputs": []
    },
    {
      "cell_type": "markdown",
      "source": [
        "**6 e 7 - A frequência de \"TV Show\" e \"Movies\" de todos os dados e comparativamente em relação as duas plataformas**"
      ],
      "metadata": {
        "id": "UAGcnBks00_z"
      }
    },
    {
      "cell_type": "code",
      "source": [
        "# concatenação das colunas de tipo de ambas plataformas\n",
        "tv_show_merge = pd.concat([merged_df['type_amazon'], merged_df['type_netflix']])\n",
        "\n",
        "# contagem dos valores dentro do DataFrame de ambas as plataformas\n",
        "tv_show_count = tv_show_merge.value_counts()\n",
        "\n",
        "# contagem dos valores apenas da coluna de tipo dos filmes da Amazon\n",
        "tv_show_amazon_count = merged_df['type_amazon'].value_counts()\n",
        "\n",
        "# contagem dos valores apenas da coluna de tipo dos filmes da Netflix\n",
        "tv_show_netflix_count = merged_df['type_netflix'].value_counts()\n",
        "\n",
        "# impressão do resultado de forma organizada\n",
        "print(\"Quantidade de registros por tipo:\")\n",
        "print(tv_show_count)\n",
        "print(\"\\nQuantidade de registros na Amazon por tipo:\")\n",
        "print(tv_show_amazon_count)\n",
        "print(\"\\nQuantidade de registros na Netflix por tipo:\")\n",
        "print(tv_show_netflix_count)\n"
      ],
      "metadata": {
        "id": "RJwPaSGx_-iL"
      },
      "execution_count": null,
      "outputs": []
    }
  ]
}