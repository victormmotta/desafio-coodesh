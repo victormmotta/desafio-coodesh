{
  "nbformat": 4,
  "nbformat_minor": 0,
  "metadata": {
    "colab": {
      "provenance": []
    },
    "kernelspec": {
      "name": "python3",
      "display_name": "Python 3"
    },
    "language_info": {
      "name": "python"
    }
  },
  "cells": [
    {
      "cell_type": "code",
      "execution_count": null,
      "metadata": {
        "id": "GD1SyRgvRhIU"
      },
      "outputs": [],
      "source": [
        "import pandas as pd\n",
        "\n",
        "# Carregar os arquivos CSV em objetos DataFrame\n",
        "netflix = pd.read_csv(\"/content/netflix_titles.csv\")\n",
        "prime = pd.read_csv(\"/content/amazon_prime_titles.csv\")\n",
        "\n",
        "# Verificar o tamanho dos objetos DataFrame\n",
        "print(\"Netflix:\", netflix.shape)\n",
        "print(\"Prime:\", prime.shape)\n",
        "\n",
        "# Verificar se há dados duplicados nos objetos DataFrame\n",
        "print(\"Netflix duplicados:\", netflix.duplicated().sum())\n",
        "print(\"Prime duplicados:\", prime.duplicated().sum())\n",
        "\n",
        "# Remover as linhas duplicadas dos objetos DataFrame\n",
        "netflix = netflix.drop_duplicates()\n",
        "prime = prime.drop_duplicates()\n",
        "\n",
        "# Verificar se há valores nulos nos objetos DataFrame\n",
        "print(\"Netflix nulos:\\n\", netflix.isnull().sum())\n",
        "print(\"Prime nulos:\\n\", prime.isnull().sum())\n",
        "\n",
        "# Remover as linhas que contêm valores nulos dos objetos DataFrame\n",
        "netflix = netflix.dropna()\n",
        "prime = prime.dropna()\n",
        "\n",
        "# Salvar os objetos DataFrame limpos em novos arquivos CSV\n",
        "netflix.to_csv(\"netflix_clean.csv\", index=False)\n",
        "prime.to_csv(\"prime_clean.csv\", index=False)"
      ]
    },
    {
      "cell_type": "markdown",
      "source": [
        "1. Top 10 atores/atrizes considerando todos os dados:"
      ],
      "metadata": {
        "id": "zVgK92JyUL1X"
      }
    },
    {
      "cell_type": "code",
      "source": [
        "import matplotlib.pyplot as plt\n",
        "\n",
        "# Carregar o arquivo CSV\n",
        "netflix = pd.read_csv(\"netflix_clean.csv\")\n",
        "\n",
        "# Obter contagem dos atores/atrizes\n",
        "actors = netflix[\"cast\"].str.split(\", \", expand=True).stack().value_counts()\n",
        "\n",
        "# Selecionar top 10\n",
        "top_actors = actors[:10]\n",
        "\n",
        "# Plotar gráfico de barras\n",
        "plt.bar(top_actors.index, top_actors.values)\n",
        "plt.title(\"Top 10 Atores/Atrizes\")\n",
        "plt.xlabel(\"Nome\")\n",
        "plt.ylabel(\"Número de títulos\")\n",
        "plt.show()"
      ],
      "metadata": {
        "colab": {
          "base_uri": "https://localhost:8080/",
          "height": 295
        },
        "id": "jP9s-I6sk0S2",
        "outputId": "168f46fe-dbb0-41d9-a1ab-3db3b346d593"
      },
      "execution_count": 3,
      "outputs": [
        {
          "output_type": "display_data",
          "data": {
            "text/plain": [
              "<Figure size 432x288 with 1 Axes>"
            ],
            "image/png": "[encoded data removed]"
          },
          "metadata": {
            "needs_background": "light"
          }
        }
      ]
    },
    {
      "cell_type": "markdown",
      "source": [
        "2. Top 5 países produtores de conteúdos considerando todos os dados e comparando as duas plataformas:"
      ],
      "metadata": {
        "id": "PwE0qbYqUXaW"
      }
    },
    {
      "cell_type": "code",
      "source": [
        "# Carregar os arquivos CSV\n",
        "netflix = pd.read_csv(\"netflix_clean.csv\")\n",
        "prime = pd.read_csv(\"prime_clean.csv\")\n",
        "\n",
        "# Obter contagem dos países\n",
        "netflix_countries = netflix[\"country\"].str.split(\", \", expand=True).stack().value_counts()\n",
        "prime_countries = prime[\"country\"].str.split(\", \", expand=True).stack().value_counts()\n",
        "\n",
        "# Selecionar top 5 de cada plataforma\n",
        "top_netflix_countries = netflix_countries[:5]\n",
        "top_prime_countries = prime_countries[:5]\n",
        "\n",
        "# Plotar gráfico de barras comparativo\n",
        "fig, ax = plt.subplots()\n",
        "ax.bar(top_netflix_countries.index, top_netflix_countries.values, label=\"Netflix\")\n",
        "ax.bar(top_prime_countries.index, top_prime_countries.values, label=\"Prime\")\n",
        "ax.set_title(\"Top 5 Países Produtores de Conteúdo\")\n",
        "ax.set_xlabel(\"País\")\n",
        "ax.set_ylabel(\"Número de títulos\")\n",
        "ax.legend()\n",
        "plt.show()"
      ],
      "metadata": {
        "colab": {
          "base_uri": "https://localhost:8080/",
          "height": 295
        },
        "id": "Ya5TDtnohTTj",
        "outputId": "f372d284-d261-4f3d-b9c8-e4e846e39009"
      },
      "execution_count": 4,
      "outputs": [
        {
          "output_type": "display_data",
          "data": {
            "text/plain": [
              "<Figure size 432x288 with 1 Axes>"
            ],
            "image/png": "[encoded data removed]"
          },
          "metadata": {
            "needs_background": "light"
          }
        }
      ]
    },
    {
      "cell_type": "markdown",
      "source": [
        "3. Mês no qual há mais adições de filmes na plataforma Netflix:\n"
      ],
      "metadata": {
        "id": "7126MfcNeeh4"
      }
    },
    {
      "cell_type": "code",
      "source": [
        "# Carregar o arquivo CSV\n",
        "netflix = pd.read_csv(\"netflix_clean.csv\")\n",
        "\n",
        "# Converter a coluna \"date_added\" para o formato de data\n",
        "netflix[\"date_added\"] = pd.to_datetime(netflix[\"date_added\"])\n",
        "\n",
        "# Obter contagem de adições por mês\n",
        "netflix_monthly_additions = netflix[\"date_added\"].dt.month.value_counts()\n",
        "\n",
        "# Plotar gráfico de barras\n",
        "plt.bar(netflix_monthly_additions.index, netflix_monthly_additions.values)\n",
        "plt.title(\"Adições Mensais de Filmes na Netflix\")\n",
        "plt.xlabel(\"Mês\")\n",
        "plt.ylabel(\"Número de títulos adicionados\")\n",
        "plt.show()"
      ],
      "metadata": {
        "colab": {
          "base_uri": "https://localhost:8080/",
          "height": 295
        },
        "id": "i6g-ytXyhY8b",
        "outputId": "f5142e46-a908-47c8-d2de-bdd3f1c7a01b"
      },
      "execution_count": 5,
      "outputs": [
        {
          "output_type": "display_data",
          "data": {
            "text/plain": [
              "<Figure size 432x288 with 1 Axes>"
            ],
            "image/png": "[encoded data removed]"
          },
          "metadata": {
            "needs_background": "light"
          }
        }
      ]
    },
    {
      "cell_type": "markdown",
      "source": [
        "4. Quantidade de filmes listados como comédia:\n"
      ],
      "metadata": {
        "id": "Af1o4-lXepng"
      }
    },
    {
      "cell_type": "code",
      "source": [
        "# Carregar o arquivo CSV\n",
        "netflix = pd.read_csv(\"netflix_clean.csv\")\n",
        "\n",
        "# Obter contagem de filmes com o gênero \"Comédia\"\n",
        "comedy_movies = netflix[\"listed_in\"].str.contains(\"Comedies\")\n",
        "comedy_movies_count = comedy_movies.sum()\n",
        "\n",
        "# Plotar gráfico de pizza\n",
        "labels = [\"Comédias\", \"Outros\"]\n",
        "sizes = [comedy_movies_count, len(netflix) - comedy_movies_count]\n",
        "plt.pie(sizes, labels=labels, autopct='%1.1f%%')\n",
        "plt.title(\"Filmes com o Gênero 'Comédia'\")\n",
        "plt.show()"
      ],
      "metadata": {
        "colab": {
          "base_uri": "https://localhost:8080/",
          "height": 264
        },
        "id": "ZMXbTo4Rh3yD",
        "outputId": "36121ff3-b5e7-430e-fa9d-8f293b4ec40a"
      },
      "execution_count": 6,
      "outputs": [
        {
          "output_type": "display_data",
          "data": {
            "text/plain": [
              "<Figure size 432x288 with 1 Axes>"
            ],
            "image/png": "[encoded data removed]"
          },
          "metadata": {}
        }
      ]
    },
    {
      "cell_type": "markdown",
      "source": [
        "5. Lista de todos os gêneros de filmes:\n"
      ],
      "metadata": {
        "id": "yYeGaYFfewGX"
      }
    },
    {
      "cell_type": "code",
      "source": [
        "# Carregar o arquivo CSV\n",
        "netflix = pd.read_csv(\"netflix_clean.csv\")\n",
        "\n",
        "# Obter lista de todos os gêneros\n",
        "genres = netflix[\"listed_in\"].str.split(\", \").explode().unique()\n",
        "\n",
        "# Imprimir lista de gêneros\n",
        "print(genres)"
      ],
      "metadata": {
        "colab": {
          "base_uri": "https://localhost:8080/"
        },
        "id": "pY77qfG-h5x0",
        "outputId": "5b58df97-0f60-4aff-bc02-f7bb6d5e2a5f"
      },
      "execution_count": 7,
      "outputs": [
        {
          "output_type": "stream",
          "name": "stdout",
          "text": [
            "['Dramas' 'Independent Movies' 'International Movies' 'British TV Shows'\n",
            " 'Reality TV' 'Comedies' 'Romantic Movies' 'Horror Movies'\n",
            " 'Sci-Fi & Fantasy' 'Thrillers' 'Action & Adventure' 'Classic Movies'\n",
            " 'Anime Features' 'Children & Family Movies' 'Documentaries'\n",
            " 'Music & Musicals' 'Cult Movies' 'Faith & Spirituality' 'LGBTQ Movies'\n",
            " 'Crime TV Shows' 'International TV Shows' 'TV Dramas' 'Romantic TV Shows'\n",
            " 'Spanish-Language TV Shows' 'Stand-Up Comedy' 'TV Shows' 'Movies'\n",
            " 'TV Comedies' 'Sports Movies' 'TV Action & Adventure'\n",
            " 'TV Sci-Fi & Fantasy' 'TV Mysteries' 'Docuseries' 'Anime Series'\n",
            " 'TV Horror' 'Teen TV Shows' 'Korean TV Shows'\n",
            " 'Stand-Up Comedy & Talk Shows' \"Kids' TV\" 'Classic & Cult TV'\n",
            " 'TV Thrillers' 'Science & Nature TV']\n"
          ]
        }
      ]
    },
    {
      "cell_type": "markdown",
      "source": [
        "6. A frequência de \"TV Show\" de todos os dados e comparativamente em relação as duas plataformas:\n",
        "\n"
      ],
      "metadata": {
        "id": "X4vF3OiLh9Pj"
      }
    },
    {
      "cell_type": "code",
      "source": [
        "# Carregar os arquivos CSV\n",
        "netflix = pd.read_csv(\"netflix_clean.csv\")\n",
        "prime = pd.read_csv(\"prime_clean.csv\")\n",
        "\n",
        "# Obter contagem de títulos do tipo \"TV Show\"\n",
        "netflix_tv_shows_count = (netflix[\"type\"] == \"TV Show\").sum()\n",
        "prime_tv_shows_count = (prime[\"type\"] == \"TV Show\").sum()\n",
        "\n",
        "# Plotar gráfico de barras comparativo\n",
        "fig, ax = plt.subplots()\n",
        "ax.bar([\"Netflix\", \"Prime\"], [netflix_tv_shows_count, prime_tv_shows_count])\n",
        "ax.set_title(\"Frequência de Títulos do Tipo 'TV Show'\")\n",
        "ax.set_ylabel(\"Número de títulos\")\n",
        "plt.show()"
      ],
      "metadata": {
        "colab": {
          "base_uri": "https://localhost:8080/",
          "height": 281
        },
        "id": "9OXL6UepiBmi",
        "outputId": "ff9f65b0-bf1b-479f-fd91-7368a26998e0"
      },
      "execution_count": 9,
      "outputs": [
        {
          "output_type": "display_data",
          "data": {
            "text/plain": [
              "<Figure size 432x288 with 1 Axes>"
            ],
            "image/png": "[encoded data removed]"
          },
          "metadata": {
            "needs_background": "light"
          }
        }
      ]
    },
    {
      "cell_type": "markdown",
      "source": [
        "7. A frequência de \"Movies\" de todos os dados e comparativamente em relação as duas plataformas:"
      ],
      "metadata": {
        "id": "Ki8lLO0diLwD"
      }
    },
    {
      "cell_type": "code",
      "source": [
        "# Carregar os arquivos CSV\n",
        "netflix = pd.read_csv(\"netflix_clean.csv\")\n",
        "prime = pd.read_csv(\"prime_clean.csv\")\n",
        "\n",
        "# Obter contagem de títulos do tipo \"Movie\"\n",
        "netflix_movies_count = (netflix[\"type\"] == \"Movie\").sum()\n",
        "prime_movies_count = (prime[\"type\"] == \"Movie\").sum()\n",
        "\n",
        "# Plotar gráfico de barras comparativo\n",
        "fig, ax = plt.subplots()\n",
        "ax.bar([\"Netflix\", \"Prime\"], [netflix_movies_count, prime_movies_count])\n",
        "ax.set_title(\"Frequência de Títulos do Tipo 'Movie'\")\n",
        "ax.set_ylabel(\"Número de títulos\")\n",
        "plt.show()"
      ],
      "metadata": {
        "colab": {
          "base_uri": "https://localhost:8080/",
          "height": 281
        },
        "id": "N1ZktSsIiNhG",
        "outputId": "939aa95a-a0be-4c9e-a330-da14de2d9d9f"
      },
      "execution_count": 10,
      "outputs": [
        {
          "output_type": "display_data",
          "data": {
            "text/plain": [
              "<Figure size 432x288 with 1 Axes>"
            ],
            "image/png": "[encoded data removed]"
          },
          "metadata": {
            "needs_background": "light"
          }
        }
      ]
    }
  ]
}